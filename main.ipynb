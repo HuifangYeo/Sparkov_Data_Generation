{
 "cells": [
  {
   "cell_type": "code",
   "execution_count": null,
   "id": "29d41051-ce00-4a82-999c-720287f8f4c3",
   "metadata": {},
   "outputs": [],
   "source": [
    "import math\n",
    "import os\n",
    "import random\n",
    "from datetime import date, datetime, timedelta\n",
    "\n",
    "import faker\n",
    "import pandas as pd\n",
    "from datagen_customer import generate_customers\n",
    "from datagen_transaction import generate_transactions\n",
    "from faker import Faker"
   ]
  },
  {
   "cell_type": "code",
   "execution_count": null,
   "id": "77aa7ff8-ca27-4ccc-9f9a-240bfa29b8a9",
   "metadata": {},
   "outputs": [],
   "source": [
    "start_dt = datetime.strptime(\"2021-03-01\", \"%Y-%m-%d\")\n",
    "end_dt = datetime.strptime(\"2021-06-30\", \"%Y-%m-%d\")\n",
    "\n",
    "initial_cust_base_size = 1000\n",
    "seed_num = 4444"
   ]
  },
  {
   "cell_type": "code",
   "execution_count": null,
   "id": "ff0620b5-8464-42c6-b8a6-f62efc23b76a",
   "metadata": {},
   "outputs": [],
   "source": [
    "fake = Faker()\n",
    "Faker.seed(seed_num)"
   ]
  },
  {
   "cell_type": "markdown",
   "id": "4bb90afc-9bf4-4f4d-afbf-003324f189ce",
   "metadata": {},
   "source": [
    "We initial with 1000 customers with transactions for 3 months."
   ]
  },
  {
   "cell_type": "code",
   "execution_count": null,
   "id": "3738477d-9744-49da-b755-46b5e95fdab9",
   "metadata": {},
   "outputs": [],
   "source": [
    "cust_list = pd.DataFrame()\n",
    "txn_df = pd.DataFrame()"
   ]
  },
  {
   "cell_type": "code",
   "execution_count": null,
   "id": "4e1fec45-00fb-4f2b-bf14-580ec3ef85de",
   "metadata": {},
   "outputs": [],
   "source": [
    "profiles = [\n",
    "    p\n",
    "    for p in os.listdir(\"profiles\")\n",
    "    if p.startswith(\"adults\") or (p.startswith(\"young\"))\n",
    "]\n",
    "profiles"
   ]
  },
  {
   "cell_type": "code",
   "execution_count": null,
   "id": "30aa6018-910c-4dee-a090-e1804e617cb8",
   "metadata": {},
   "outputs": [],
   "source": [
    "customer_output_file = \"customers_list.csv\"\n",
    "txn_output_file = \"_txn.csv\"\n",
    "\n",
    "for dt in (start_dt + timedelta(n) for n in range(int((end_dt - start_dt).days))):\n",
    "    print(\"Date\", dt)\n",
    "\n",
    "    if dt == start_dt:\n",
    "        num_new_customers = initial_cust_base_size\n",
    "    else:\n",
    "        increment = random.uniform(0.01, 0.03)\n",
    "        num_new_customers = math.ceil(len(cust_list) * increment)\n",
    "\n",
    "    print(\"Number of customers newly onboard: \", num_new_customers)\n",
    "\n",
    "    new_cust_list = generate_customers(\n",
    "        fake, num_new_customers, \"profiles/main_config.json\"\n",
    "    )\n",
    "    cust_list = cust_list.append(new_cust_list, ignore_index=True)\n",
    "    print(\"Total customer: \", len(cust_list))\n",
    "    new_cust_list.to_csv(\n",
    "        customer_output_file, mode=\"a\", header=not os.path.exists(customer_output_file)\n",
    "    )\n",
    "\n",
    "    for p in profiles:\n",
    "        # generate txns for the new customers from current date to the end date\n",
    "        new_cust_txn_df = generate_transactions(new_cust_list, p, dt, end_dt)\n",
    "        print(f\"Number of transaction ({p}): \", len(new_cust_txn_df))\n",
    "        new_cust_txn_df.to_csv(\n",
    "            f\"{p}{txn_output_file}\",\n",
    "            mode=\"a\",\n",
    "            header=not os.path.exists(f\"{p}{txn_output_file}\"),\n",
    "        )\n",
    "\n",
    "        txn_df = txn_df.append(new_cust_txn_df, ignore_index=True)"
   ]
  },
  {
   "cell_type": "code",
   "execution_count": null,
   "id": "d9ccc84b-0265-466a-9829-c5d93aa81e12",
   "metadata": {},
   "outputs": [],
   "source": [
    "print(f\"Number of customers: {len(cust_list)}, Number of transactions: {len(txn_df)}\")"
   ]
  },
  {
   "cell_type": "code",
   "execution_count": null,
   "id": "dffe2f2d-f7b5-45cc-947e-885cd2081321",
   "metadata": {},
   "outputs": [],
   "source": []
  }
 ],
 "metadata": {
  "kernelspec": {
   "display_name": "Python 3 (ipykernel)",
   "language": "python",
   "name": "python3"
  },
  "language_info": {
   "codemirror_mode": {
    "name": "ipython",
    "version": 3
   },
   "file_extension": ".py",
   "mimetype": "text/x-python",
   "name": "python",
   "nbconvert_exporter": "python",
   "pygments_lexer": "ipython3",
   "version": "3.9.7"
  }
 },
 "nbformat": 4,
 "nbformat_minor": 5
}
